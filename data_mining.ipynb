{
  "nbformat": 4,
  "nbformat_minor": 0,
  "metadata": {
    "colab": {
      "provenance": [],
      "authorship_tag": "ABX9TyOmqogaTUcN5+4A8is+4euU",
      "include_colab_link": true
    },
    "kernelspec": {
      "name": "python3",
      "display_name": "Python 3"
    },
    "language_info": {
      "name": "python"
    }
  },
  "cells": [
    {
      "cell_type": "markdown",
      "metadata": {
        "id": "view-in-github",
        "colab_type": "text"
      },
      "source": [
        "<a href=\"https://colab.research.google.com/github/2303A51710Viveksai/2303A51710-Application-of-Data-Mining/blob/main/data_mining.ipynb\" target=\"_parent\"><img src=\"https://colab.research.google.com/assets/colab-badge.svg\" alt=\"Open In Colab\"/></a>"
      ]
    },
    {
      "cell_type": "code",
      "execution_count": 1,
      "metadata": {
        "id": "DrkD0w3Y5Tcd"
      },
      "outputs": [],
      "source": [
        "import pandas as pd\n"
      ]
    },
    {
      "cell_type": "code",
      "source": [
        "df=pd.read_csv(\"patients.csv\")"
      ],
      "metadata": {
        "id": "bn0bJf8T5q8w"
      },
      "execution_count": 2,
      "outputs": []
    },
    {
      "cell_type": "code",
      "source": [
        "df.isnull().sum()"
      ],
      "metadata": {
        "colab": {
          "base_uri": "https://localhost:8080/",
          "height": 272
        },
        "id": "jCmYiY_N6B87",
        "outputId": "810e5680-baff-42ac-dd5c-ae6fe7455a3b"
      },
      "execution_count": 3,
      "outputs": [
        {
          "output_type": "execute_result",
          "data": {
            "text/plain": [
              "Patient_ID        0\n",
              "Age               0\n",
              "Glucose_Level     5\n",
              "Blood_Pressure    5\n",
              "Insulin           5\n",
              "BMI               5\n",
              "dtype: int64"
            ],
            "text/html": [
              "<div>\n",
              "<style scoped>\n",
              "    .dataframe tbody tr th:only-of-type {\n",
              "        vertical-align: middle;\n",
              "    }\n",
              "\n",
              "    .dataframe tbody tr th {\n",
              "        vertical-align: top;\n",
              "    }\n",
              "\n",
              "    .dataframe thead th {\n",
              "        text-align: right;\n",
              "    }\n",
              "</style>\n",
              "<table border=\"1\" class=\"dataframe\">\n",
              "  <thead>\n",
              "    <tr style=\"text-align: right;\">\n",
              "      <th></th>\n",
              "      <th>0</th>\n",
              "    </tr>\n",
              "  </thead>\n",
              "  <tbody>\n",
              "    <tr>\n",
              "      <th>Patient_ID</th>\n",
              "      <td>0</td>\n",
              "    </tr>\n",
              "    <tr>\n",
              "      <th>Age</th>\n",
              "      <td>0</td>\n",
              "    </tr>\n",
              "    <tr>\n",
              "      <th>Glucose_Level</th>\n",
              "      <td>5</td>\n",
              "    </tr>\n",
              "    <tr>\n",
              "      <th>Blood_Pressure</th>\n",
              "      <td>5</td>\n",
              "    </tr>\n",
              "    <tr>\n",
              "      <th>Insulin</th>\n",
              "      <td>5</td>\n",
              "    </tr>\n",
              "    <tr>\n",
              "      <th>BMI</th>\n",
              "      <td>5</td>\n",
              "    </tr>\n",
              "  </tbody>\n",
              "</table>\n",
              "</div><br><label><b>dtype:</b> int64</label>"
            ]
          },
          "metadata": {},
          "execution_count": 3
        }
      ]
    },
    {
      "cell_type": "code",
      "source": [
        "df[\"Glucose_Level\"].fillna(df[\"Glucose_Level\"].mean(),inplace=True)\n",
        "df[\"Blood_Pressure\"].fillna(df[\"Blood_Pressure\"].mode()[0],inplace=True)\n",
        "df[\"Insulin\"].fillna(df[\"Insulin\"].median(),inplace=True)"
      ],
      "metadata": {
        "colab": {
          "base_uri": "https://localhost:8080/"
        },
        "id": "tI6dxg6p6MJ8",
        "outputId": "17587fcf-7aaa-45d2-d172-58fcf0a9d9ab"
      },
      "execution_count": 4,
      "outputs": [
        {
          "output_type": "stream",
          "name": "stderr",
          "text": [
            "<ipython-input-4-d59dc95a22e3>:1: FutureWarning: A value is trying to be set on a copy of a DataFrame or Series through chained assignment using an inplace method.\n",
            "The behavior will change in pandas 3.0. This inplace method will never work because the intermediate object on which we are setting values always behaves as a copy.\n",
            "\n",
            "For example, when doing 'df[col].method(value, inplace=True)', try using 'df.method({col: value}, inplace=True)' or df[col] = df[col].method(value) instead, to perform the operation inplace on the original object.\n",
            "\n",
            "\n",
            "  df[\"Glucose_Level\"].fillna(df[\"Glucose_Level\"].mean(),inplace=True)\n",
            "<ipython-input-4-d59dc95a22e3>:2: FutureWarning: A value is trying to be set on a copy of a DataFrame or Series through chained assignment using an inplace method.\n",
            "The behavior will change in pandas 3.0. This inplace method will never work because the intermediate object on which we are setting values always behaves as a copy.\n",
            "\n",
            "For example, when doing 'df[col].method(value, inplace=True)', try using 'df.method({col: value}, inplace=True)' or df[col] = df[col].method(value) instead, to perform the operation inplace on the original object.\n",
            "\n",
            "\n",
            "  df[\"Blood_Pressure\"].fillna(df[\"Blood_Pressure\"].mode()[0],inplace=True)\n",
            "<ipython-input-4-d59dc95a22e3>:3: FutureWarning: A value is trying to be set on a copy of a DataFrame or Series through chained assignment using an inplace method.\n",
            "The behavior will change in pandas 3.0. This inplace method will never work because the intermediate object on which we are setting values always behaves as a copy.\n",
            "\n",
            "For example, when doing 'df[col].method(value, inplace=True)', try using 'df.method({col: value}, inplace=True)' or df[col] = df[col].method(value) instead, to perform the operation inplace on the original object.\n",
            "\n",
            "\n",
            "  df[\"Insulin\"].fillna(df[\"Insulin\"].median(),inplace=True)\n"
          ]
        }
      ]
    },
    {
      "cell_type": "code",
      "source": [
        "df[\"BMI\"].fillna(df[\"BMI\"].mean(),inplace=True)"
      ],
      "metadata": {
        "colab": {
          "base_uri": "https://localhost:8080/"
        },
        "id": "DRSdvBvM7otD",
        "outputId": "26ce465f-c376-495c-f798-424c588cea46"
      },
      "execution_count": 5,
      "outputs": [
        {
          "output_type": "stream",
          "name": "stderr",
          "text": [
            "<ipython-input-5-b4562ed032b8>:1: FutureWarning: A value is trying to be set on a copy of a DataFrame or Series through chained assignment using an inplace method.\n",
            "The behavior will change in pandas 3.0. This inplace method will never work because the intermediate object on which we are setting values always behaves as a copy.\n",
            "\n",
            "For example, when doing 'df[col].method(value, inplace=True)', try using 'df.method({col: value}, inplace=True)' or df[col] = df[col].method(value) instead, to perform the operation inplace on the original object.\n",
            "\n",
            "\n",
            "  df[\"BMI\"].fillna(df[\"BMI\"].mean(),inplace=True)\n"
          ]
        }
      ]
    },
    {
      "cell_type": "code",
      "source": [
        "df.isnull().sum()"
      ],
      "metadata": {
        "colab": {
          "base_uri": "https://localhost:8080/",
          "height": 272
        },
        "id": "GPawky967wHK",
        "outputId": "359c7399-1106-462e-d6ca-b1fc386351a1"
      },
      "execution_count": 6,
      "outputs": [
        {
          "output_type": "execute_result",
          "data": {
            "text/plain": [
              "Patient_ID        0\n",
              "Age               0\n",
              "Glucose_Level     0\n",
              "Blood_Pressure    0\n",
              "Insulin           0\n",
              "BMI               0\n",
              "dtype: int64"
            ],
            "text/html": [
              "<div>\n",
              "<style scoped>\n",
              "    .dataframe tbody tr th:only-of-type {\n",
              "        vertical-align: middle;\n",
              "    }\n",
              "\n",
              "    .dataframe tbody tr th {\n",
              "        vertical-align: top;\n",
              "    }\n",
              "\n",
              "    .dataframe thead th {\n",
              "        text-align: right;\n",
              "    }\n",
              "</style>\n",
              "<table border=\"1\" class=\"dataframe\">\n",
              "  <thead>\n",
              "    <tr style=\"text-align: right;\">\n",
              "      <th></th>\n",
              "      <th>0</th>\n",
              "    </tr>\n",
              "  </thead>\n",
              "  <tbody>\n",
              "    <tr>\n",
              "      <th>Patient_ID</th>\n",
              "      <td>0</td>\n",
              "    </tr>\n",
              "    <tr>\n",
              "      <th>Age</th>\n",
              "      <td>0</td>\n",
              "    </tr>\n",
              "    <tr>\n",
              "      <th>Glucose_Level</th>\n",
              "      <td>0</td>\n",
              "    </tr>\n",
              "    <tr>\n",
              "      <th>Blood_Pressure</th>\n",
              "      <td>0</td>\n",
              "    </tr>\n",
              "    <tr>\n",
              "      <th>Insulin</th>\n",
              "      <td>0</td>\n",
              "    </tr>\n",
              "    <tr>\n",
              "      <th>BMI</th>\n",
              "      <td>0</td>\n",
              "    </tr>\n",
              "  </tbody>\n",
              "</table>\n",
              "</div><br><label><b>dtype:</b> int64</label>"
            ]
          },
          "metadata": {},
          "execution_count": 6
        }
      ]
    },
    {
      "cell_type": "code",
      "source": [
        "from sklearn.preprocessing import MinMaxScaler"
      ],
      "metadata": {
        "id": "AJU0XnMt79ya"
      },
      "execution_count": 7,
      "outputs": []
    },
    {
      "cell_type": "code",
      "source": [
        "a=MinMaxScaler()\n",
        "df=a.fit_transform(df)"
      ],
      "metadata": {
        "id": "QDQ2eDjg8Jl1"
      },
      "execution_count": 8,
      "outputs": []
    },
    {
      "cell_type": "code",
      "source": [
        "df"
      ],
      "metadata": {
        "colab": {
          "base_uri": "https://localhost:8080/"
        },
        "id": "M22uIrsE8N6X",
        "outputId": "f118984e-12ed-4d12-d04f-54fbcb2dd5d1"
      },
      "execution_count": 9,
      "outputs": [
        {
          "output_type": "execute_result",
          "data": {
            "text/plain": [
              "array([[0.        , 0.53061224, 0.94285714, 0.42857143, 0.38888889,\n",
              "        0.52554008],\n",
              "       [0.02040816, 0.32653061, 0.95714286, 0.16883117, 0.64583333,\n",
              "        0.82610021],\n",
              "       [0.04081633, 0.06122449, 0.04285714, 0.38961039, 1.        ,\n",
              "        0.8162711 ],\n",
              "       [0.06122449, 0.91836735, 0.91428571, 0.44155844, 0.02777778,\n",
              "        0.05511516],\n",
              "       [0.08163265, 0.81632653, 0.55714286, 0.27272727, 0.70138889,\n",
              "        0.68573289],\n",
              "       [0.10204082, 0.26530612, 0.47142857, 0.23376623, 0.46527778,\n",
              "        0.        ],\n",
              "       [0.12244898, 0.65306122, 0.34285714, 0.        , 0.55555556,\n",
              "        0.74258858],\n",
              "       [0.14285714, 0.24489796, 0.11428571, 0.93506494, 0.46527778,\n",
              "        0.25616947],\n",
              "       [0.16326531, 0.6122449 , 0.45238095, 0.51948052, 0.94444444,\n",
              "        0.91311748],\n",
              "       [0.18367347, 0.89795918, 0.42857143, 0.25974026, 0.30555556,\n",
              "        0.25882554],\n",
              "       [0.20408163, 0.65306122, 0.88571429, 0.74025974, 0.88194444,\n",
              "        0.52554008],\n",
              "       [0.2244898 , 0.57142857, 0.07142857, 0.37662338, 0.08333333,\n",
              "        0.40942507],\n",
              "       [0.24489796, 0.83673469, 0.01428571, 0.98701299, 0.75694444,\n",
              "        0.08734996],\n",
              "       [0.26530612, 0.        , 0.74285714, 0.96103896, 0.01388889,\n",
              "        1.        ],\n",
              "       [0.28571429, 0.51020408, 0.8       , 0.93506494, 0.32638889,\n",
              "        0.80329395],\n",
              "       [0.30612245, 0.18367347, 1.        , 0.23376623, 0.02083333,\n",
              "        0.61694101],\n",
              "       [0.32653061, 0.20408163, 0.47142857, 0.77922078, 0.1875    ,\n",
              "        0.48354972],\n",
              "       [0.34693878, 1.        , 0.18571429, 0.74025974, 0.50694444,\n",
              "        0.11719005],\n",
              "       [0.36734694, 0.08163265, 0.3       , 0.55844156, 0.25694444,\n",
              "        0.28163211],\n",
              "       [0.3877551 , 0.51020408, 0.44285714, 1.        , 0.46527778,\n",
              "        0.94616539],\n",
              "       [0.40816327, 0.63265306, 0.11428571, 0.28571429, 0.36805556,\n",
              "        0.77981969],\n",
              "       [0.42857143, 0.42857143, 0.71428571, 0.8961039 , 0.31944444,\n",
              "        0.09811187],\n",
              "       [0.44897959, 0.93877551, 0.81428571, 0.75324675, 0.82638889,\n",
              "        0.92215041],\n",
              "       [0.46938776, 0.85714286, 0.45238095, 0.27272727, 0.66666667,\n",
              "        0.96817746],\n",
              "       [0.48979592, 0.57142857, 0.2       , 0.68831169, 0.21527778,\n",
              "        0.30269619],\n",
              "       [0.51020408, 0.63265306, 0.52857143, 0.36363636, 0.45138889,\n",
              "        0.97646304],\n",
              "       [0.53061224, 0.36734694, 0.1       , 0.7012987 , 0.        ,\n",
              "        0.52226918],\n",
              "       [0.55102041, 0.26530612, 0.48571429, 0.61038961, 0.81944444,\n",
              "        0.52554008],\n",
              "       [0.57142857, 0.2244898 , 0.91428571, 0.75324675, 0.46527778,\n",
              "        0.33762166],\n",
              "       [0.59183673, 0.42857143, 0.31428571, 0.94805195, 0.51388889,\n",
              "        0.15504256],\n",
              "       [0.6122449 , 0.67346939, 0.98571429, 0.19480519, 0.52083333,\n",
              "        0.53690058],\n",
              "       [0.63265306, 0.79591837, 0.12857143, 0.96103896, 0.46527778,\n",
              "        0.89858794],\n",
              "       [0.65306122, 0.67346939, 0.45714286, 0.7012987 , 0.86111111,\n",
              "        0.39123496],\n",
              "       [0.67346939, 0.75510204, 0.2       , 0.63636364, 0.36111111,\n",
              "        0.06299772],\n",
              "       [0.69387755, 0.89795918, 0.94285714, 0.33766234, 0.90972222,\n",
              "        0.31649978],\n",
              "       [0.71428571, 0.16326531, 0.        , 0.38961039, 0.74305556,\n",
              "        0.4356047 ],\n",
              "       [0.73469388, 0.79591837, 0.45238095, 0.87012987, 0.27777778,\n",
              "        0.62905882],\n",
              "       [0.75510204, 0.83673469, 0.88571429, 0.09090909, 0.29166667,\n",
              "        0.04969784],\n",
              "       [0.7755102 , 0.        , 0.45238095, 0.81818182, 0.875     ,\n",
              "        0.3344991 ],\n",
              "       [0.79591837, 0.44897959, 0.08571429, 0.74025974, 0.07638889,\n",
              "        0.03782294],\n",
              "       [0.81632653, 0.59183673, 0.17142857, 0.74025974, 0.5625    ,\n",
              "        0.87907687],\n",
              "       [0.83673469, 0.55102041, 0.24285714, 0.05194805, 0.09722222,\n",
              "        0.52554008],\n",
              "       [0.85714286, 0.32653061, 0.45238095, 0.74025974, 0.11805556,\n",
              "        0.4327489 ],\n",
              "       [0.87755102, 0.42857143, 0.22857143, 0.36363636, 0.14583333,\n",
              "        0.98248549],\n",
              "       [0.89795918, 0.18367347, 0.01428571, 0.74025974, 0.46527778,\n",
              "        0.85650051],\n",
              "       [0.91836735, 0.63265306, 0.94285714, 0.94805195, 0.9375    ,\n",
              "        0.66373261],\n",
              "       [0.93877551, 0.73469388, 0.37142857, 0.5974026 , 0.02083333,\n",
              "        0.13986854],\n",
              "       [0.95918367, 0.        , 0.18571429, 0.88311688, 0.63888889,\n",
              "        0.98426201],\n",
              "       [0.97959184, 0.24489796, 0.04285714, 0.74025974, 0.71527778,\n",
              "        0.52554008],\n",
              "       [1.        , 1.        , 0.6       , 0.74025974, 0.54861111,\n",
              "        0.65590469]])"
            ]
          },
          "metadata": {},
          "execution_count": 9
        }
      ]
    }
  ]
}